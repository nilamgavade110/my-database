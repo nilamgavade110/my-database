{
 "cells": [
  {
   "cell_type": "code",
   "execution_count": 1,
   "id": "4d0cd905",
   "metadata": {},
   "outputs": [],
   "source": [
    "# importing necessary libraries\n",
    "import mysql.connector\n",
    "import pandas as pd\n"
   ]
  },
  {
   "cell_type": "code",
   "execution_count": 2,
   "id": "f3ab6019",
   "metadata": {},
   "outputs": [],
   "source": [
    "# connecting mysql server\n",
    "database = mysql.connector.connect(host=\"localhost\",user=\"root\",passwd= \"root1\",database=\"project12\")\n",
    "cursor = database.cursor()\n",
    "query2 = \"select*from patient21\""
   ]
  },
  {
   "cell_type": "code",
   "execution_count": 3,
   "id": "87ebe644",
   "metadata": {},
   "outputs": [],
   "source": [
    "cursor.execute(query2)"
   ]
  },
  {
   "cell_type": "code",
   "execution_count": 4,
   "id": "1d7fafaa",
   "metadata": {},
   "outputs": [],
   "source": [
    "table_rows = cursor.fetchall()"
   ]
  },
  {
   "cell_type": "code",
   "execution_count": 5,
   "id": "1b86d55c",
   "metadata": {},
   "outputs": [
    {
     "name": "stdout",
     "output_type": "stream",
     "text": [
      "   cust_ID     Name   Open_date  Consult_dt VAC_ID  Dr_Name State Country  \\\n",
      "0      321    Nilam  2021-09-01  2022-09-02    CSD    Megha    MH     IND   \n",
      "1      349   Shital  2021-08-05  2022-08-05    CSD    Nayan    SA     USA   \n",
      "2      457   manish  2021-09-05  2022-10-05    CSD  kaushal   WAS    PHIL   \n",
      "3      488   yogesh  2021-09-08  2022-10-22    CSD  kaushal   BOS     NYC   \n",
      "4      496  shubham  2021-09-04  2022-10-08    CSD  kamlesh   VIC      AU   \n",
      "5      499    meera  2021-04-09  2022-06-06    CSD    kamya    TN     IND   \n",
      "\n",
      "          DOB Active  \n",
      "0  1998-04-04      A  \n",
      "1  1998-09-06      A  \n",
      "2  1994-04-02      A  \n",
      "3  1992-06-01      A  \n",
      "4  1993-01-09      A  \n",
      "5  1995-04-06      A  \n"
     ]
    }
   ],
   "source": [
    "df = pd.read_sql('SELECT * FROM patient21', con=database) \n",
    "print(df)"
   ]
  },
  {
   "cell_type": "code",
   "execution_count": 6,
   "id": "1b6524a2",
   "metadata": {},
   "outputs": [
    {
     "name": "stdout",
     "output_type": "stream",
     "text": [
      "            Name   Open_date  Consult_dt VAC_ID  Dr_Name State Country  \\\n",
      "cust_ID                                                                  \n",
      "321        Nilam  2021-09-01  2022-09-02    CSD    Megha    MH     IND   \n",
      "349       Shital  2021-08-05  2022-08-05    CSD    Nayan    SA     USA   \n",
      "457       manish  2021-09-05  2022-10-05    CSD  kaushal   WAS    PHIL   \n",
      "488       yogesh  2021-09-08  2022-10-22    CSD  kaushal   BOS     NYC   \n",
      "496      shubham  2021-09-04  2022-10-08    CSD  kamlesh   VIC      AU   \n",
      "499        meera  2021-04-09  2022-06-06    CSD    kamya    TN     IND   \n",
      "\n",
      "                DOB Active  \n",
      "cust_ID                     \n",
      "321      1998-04-04      A  \n",
      "349      1998-09-06      A  \n",
      "457      1994-04-02      A  \n",
      "488      1992-06-01      A  \n",
      "496      1993-01-09      A  \n",
      "499      1995-04-06      A  \n"
     ]
    }
   ],
   "source": [
    "df.set_index(['cust_ID'], inplace=True)  # setting default index\n",
    "print (df)"
   ]
  },
  {
   "cell_type": "code",
   "execution_count": 7,
   "id": "e557343a",
   "metadata": {},
   "outputs": [],
   "source": [
    "ans = df.loc[df['Country'] == \"IND\"]"
   ]
  },
  {
   "cell_type": "code",
   "execution_count": 8,
   "id": "28dec2c9",
   "metadata": {},
   "outputs": [],
   "source": [
    "def show_data(country):\n",
    "    data = df.loc[df['Country'] == country]\n",
    "    print(data)"
   ]
  },
  {
   "cell_type": "code",
   "execution_count": 9,
   "id": "58e22c50",
   "metadata": {},
   "outputs": [],
   "source": [
    "def get_file(country):\n",
    "    data = df.loc[df['Country'] == country]\n",
    "    file_name = str(country)\n",
    "    data.to_csv('C:/Users/yogesh/Downloads/' + country + \".csv\")  # replace path with your desired path\n",
    "    print(\"File has been created to the specified path\")\n"
   ]
  },
  {
   "cell_type": "code",
   "execution_count": 10,
   "id": "67ba8c21",
   "metadata": {},
   "outputs": [
    {
     "name": "stdout",
     "output_type": "stream",
     "text": [
      "          Name   Open_date  Consult_dt VAC_ID Dr_Name State Country  \\\n",
      "cust_ID                                                               \n",
      "321      Nilam  2021-09-01  2022-09-02    CSD   Megha    MH     IND   \n",
      "499      meera  2021-04-09  2022-06-06    CSD   kamya    TN     IND   \n",
      "\n",
      "                DOB Active  \n",
      "cust_ID                     \n",
      "321      1998-04-04      A  \n",
      "499      1995-04-06      A  \n",
      "File has been created to the specified path\n"
     ]
    }
   ],
   "source": [
    "# calling functions\n",
    "\n",
    "show_data(\"IND\")\n",
    "get_file(\"IND\")"
   ]
  },
  {
   "cell_type": "code",
   "execution_count": null,
   "id": "cdbe2162",
   "metadata": {},
   "outputs": [],
   "source": []
  }
 ],
 "metadata": {
  "kernelspec": {
   "display_name": "Python 3",
   "language": "python",
   "name": "python3"
  },
  "language_info": {
   "codemirror_mode": {
    "name": "ipython",
    "version": 3
   },
   "file_extension": ".py",
   "mimetype": "text/x-python",
   "name": "python",
   "nbconvert_exporter": "python",
   "pygments_lexer": "ipython3",
   "version": "3.8.8"
  }
 },
 "nbformat": 4,
 "nbformat_minor": 5
}
